{
  "cells": [
    {
      "cell_type": "markdown",
      "metadata": {
        "id": "pxH3R-8OZOpk"
      },
      "source": [
        "# HW6 EE599 Systems for Machine Learning, Fall 2023\n",
        "University of Southern California\n",
        "\n",
        "Instructors: Arash Saifhashemi, Murali Annavaram\n",
        "\n",
        "In this homework assignment, we're going to implement DP-SGD for neural networks! Recall from the class that classical ML models possessed convenient properties such as Convexity and L-Lipschitzness which make the DP analysis easy. However, modern neural networks, like the one we'll be working with, does not have these properties. Thus, we need to modify the training algorithm, gradient descent, so that the trained model is DP.\n",
        "\n",
        "## Prerequisites:\n",
        "\n",
        "Set the runtime type to GPU. (Runtime -> Change Runtime Type)"
      ]
    },
    {
      "cell_type": "markdown",
      "metadata": {
        "id": "fQQk25oQCo8f"
      },
      "source": [
        "## Mount Google Drive\n",
        "\n",
        "Create a folder named `HW6` under `ML_Systems` in your Google drive."
      ]
    },
    {
      "cell_type": "code",
      "execution_count": 1,
      "metadata": {
        "colab": {
          "base_uri": "https://localhost:8080/"
        },
        "id": "ezmjLOr6Co8f",
        "outputId": "20a23c74-e388-480e-d839-362a9f1b377e"
      },
      "outputs": [
        {
          "output_type": "stream",
          "name": "stdout",
          "text": [
            "Mounted at /content/drive\n"
          ]
        }
      ],
      "source": [
        "from google.colab import drive\n",
        "\n",
        "drive.mount(\"/content/drive\")\n",
        "\n",
        "import sys, os\n",
        "\n",
        "data_dir = \"/content/drive/MyDrive/ML_Systems/HW6/data\""
      ]
    },
    {
      "cell_type": "markdown",
      "metadata": {
        "id": "g1ODkkuwZTSD"
      },
      "source": [
        "## Initial Setup\n",
        "\n",
        "This section imports all required packages from PyTorch."
      ]
    },
    {
      "cell_type": "code",
      "execution_count": 2,
      "metadata": {
        "colab": {
          "base_uri": "https://localhost:8080/"
        },
        "id": "FnT0mf2l0hUC",
        "outputId": "63c082e7-3996-4fd4-d436-846f88e10183"
      },
      "outputs": [
        {
          "output_type": "execute_result",
          "data": {
            "text/plain": [
              "<torch._C.Generator at 0x7f5b12dd6830>"
            ]
          },
          "metadata": {},
          "execution_count": 2
        }
      ],
      "source": [
        "import torch\n",
        "import torchvision\n",
        "import torch.nn as nn\n",
        "import torch.optim as optim\n",
        "import torch.nn.functional as F\n",
        "from torch.utils.data import DataLoader\n",
        "import torchvision.transforms as transforms\n",
        "\n",
        "import numpy as np\n",
        "import matplotlib.pyplot as plt\n",
        "import copy\n",
        "\n",
        "torch.manual_seed(0)"
      ]
    },
    {
      "cell_type": "markdown",
      "metadata": {
        "id": "3B5DlxLjCo8g"
      },
      "source": [
        "**Reminder:** set the runtime type to \"GPU\", or your code will run much more slowly on a CPU."
      ]
    },
    {
      "cell_type": "code",
      "execution_count": 3,
      "metadata": {
        "id": "22wBDD60Co8h"
      },
      "outputs": [],
      "source": [
        "if torch.cuda.is_available():\n",
        "    device = torch.device(\"cuda\")\n",
        "else:\n",
        "    device = torch.device(\"cpu\")"
      ]
    },
    {
      "cell_type": "markdown",
      "metadata": {
        "id": "yQA2aMuNbv48"
      },
      "source": [
        "Define model architecture and prepare dataset, which are the same as the previous homework."
      ]
    },
    {
      "cell_type": "code",
      "execution_count": 4,
      "metadata": {
        "id": "Km-kc-wa0n5d"
      },
      "outputs": [],
      "source": [
        "class Net(nn.Module):\n",
        "    def __init__(self):\n",
        "        super(Net, self).__init__()\n",
        "\n",
        "        # Define the layers of the neural network architecture\n",
        "\n",
        "        # First convolutional layer: 3 input channels, 6 output channels, kernel size 5x5\n",
        "        self.conv1 = nn.Conv2d(3, 6, 5, bias=False)\n",
        "\n",
        "        # Max pooling layer with kernel size 2x2 and stride 2\n",
        "        self.pool = nn.MaxPool2d(2, 2)\n",
        "\n",
        "        # Second convolutional layer: 6 input channels, 16 output channels, kernel size 5x5\n",
        "        self.conv2 = nn.Conv2d(6, 16, 5, bias=False)\n",
        "\n",
        "        # Fully connected (dense) layers\n",
        "\n",
        "        # First fully connected layer: 16*5*5 input features, 120 output features\n",
        "        self.fc1 = nn.Linear(16 * 5 * 5, 120, bias=False)\n",
        "\n",
        "        # Second fully connected layer: 120 input features, 84 output features\n",
        "        self.fc2 = nn.Linear(120, 84, bias=False)\n",
        "\n",
        "        # Third fully connected layer: 84 input features, 10 output features (for classification)\n",
        "        self.fc3 = nn.Linear(84, 10, bias=False)\n",
        "\n",
        "    def forward(self, x: torch.Tensor) -> torch.Tensor:\n",
        "        # Forward pass through the neural network\n",
        "\n",
        "        # Apply first convolutional layer, followed by ReLU activation and max pooling\n",
        "        x = self.pool(F.relu(self.conv1(x)))\n",
        "\n",
        "        # Apply second convolutional layer, followed by ReLU activation and max pooling\n",
        "        x = self.pool(F.relu(self.conv2(x)))\n",
        "\n",
        "        # The output from the convolutional and pooling layers is in the form of a\n",
        "        # 3D tensor (height, width, depth or channels).\n",
        "        # To feed this tensor into a fully connected layer,\n",
        "        # it needs to be flattened into a 1D tensor.\n",
        "        # Reshape tensor for fully connected layers\n",
        "        # A2D tensor with a shape of [batch_size, 16 * 5 * 5].\n",
        "        x = x.view(-1, 16 * 5 * 5)\n",
        "\n",
        "        # Apply first fully connected layer, followed by ReLU activation\n",
        "        x = F.relu(self.fc1(x))\n",
        "\n",
        "        # Apply second fully connected layer, followed by ReLU activation\n",
        "        x = F.relu(self.fc2(x))\n",
        "\n",
        "        # Apply third fully connected layer (output layer)\n",
        "        x = self.fc3(x)\n",
        "\n",
        "        return x"
      ]
    },
    {
      "cell_type": "code",
      "execution_count": 5,
      "metadata": {
        "id": "heygH3k7ZI0L"
      },
      "outputs": [],
      "source": [
        "# A function to evaluate the performance of a given neural network model\n",
        "# using a test dataset.\n",
        "# It calculates the accuracy of the model's predictions on the test data.\n",
        "def calculate_accuracy(\n",
        "    model: nn.Module, dataloader: DataLoader, max_samples=None\n",
        ") -> float:\n",
        "    correct_predictions = 0  # Initialize the count of correctly predicted samples\n",
        "    total_samples = 0  # Initialize the count of total samples\n",
        "    inference_count = 0  # Initialize the count of inferences made\n",
        "\n",
        "    with torch.no_grad():  # Disable gradient calculation for inference\n",
        "        for batch_data in dataloader:\n",
        "            images, labels = batch_data  # Separate images and labels from the batch\n",
        "\n",
        "            images = images.to(device)  # Move images to the specified device\n",
        "            labels = labels.to(device)  # Move labels to the specified device\n",
        "\n",
        "            outputs = model(images)  # Forward pass to get model predictions\n",
        "            _, predicted = torch.max(outputs.data, 1)  # Get predicted class indices\n",
        "\n",
        "            total_samples += labels.size(0)  # Increment the total count of samples\n",
        "            correct_predictions += (\n",
        "                (predicted == labels).sum().item()\n",
        "            )  # Count correct predictions\n",
        "\n",
        "            if (\n",
        "                max_samples\n",
        "            ):  # Check if a maximum number of samples for testing is specified\n",
        "                inference_count += images.shape[\n",
        "                    0\n",
        "                ]  # Increment the count of inferences made\n",
        "                if (\n",
        "                    inference_count > max_samples\n",
        "                ):  # Stop testing if maximum samples reached\n",
        "                    break\n",
        "\n",
        "    accuracy = (\n",
        "        100 * correct_predictions / total_samples\n",
        "    )  # Calculate the accuracy as a percentage\n",
        "    return accuracy"
      ]
    },
    {
      "cell_type": "markdown",
      "metadata": {
        "id": "5tIgKCdRcmB8"
      },
      "source": [
        "## DP Hyperparamters\n",
        "Here is where we will defined the different hyperparameters needed for DP-SGD.\n",
        "* $N = 2048$: Number of datapoints we are using. Since DP-SGD takes extremely long to run, we will only use a subset of the total CIFAR-10 dataset\n",
        "* $C = 1.0$: This is the clipping threshold. If $||∇L(x, y)||_{2} > C$ then we divide by $||∇L(x, y)||_{2}$.\n",
        "* $E = 20$: Number of epochs to run DP-SGD\n",
        "* $q = batch\\_size / N$: This is the sample probability. Since we are grouping the dataset into batches, each batch can be thought of as being sampled.\n",
        "* $T = \\frac{E}{q}$: number of iterations. This is more of an internal value used to calculate the DP parameter values, because DP-SGD is measured in terms of iterations, not epochs. But we can convert from Epochs to iterations.\n",
        "* $\\sigma$: The noise multiplier used to add noise to the gradients. As $\\sigma$ gets larger, the privacy guarantee improves but the variance of the noise increases, which can reduce the accuracy or utility. The choice of $\\sigma$ is often related to the desired $\\varepsilon$ value; achieving a lower\n",
        "$\\varepsilon$ (stronger privacy) typically requires a higher\n",
        "$\\sigma$.\n",
        "\n",
        "* $\\delta = 10^{-5}$: This is the probability of failure. We will set this to a default value.\n",
        "* $\\varepsilon = \\frac{q * \\sqrt{T * \\log(1 / \\delta)}}{\\sigma}$: the privacy loss, which is a function of the other hyperparameters. It quantifies the strength of the privacy guarantee. In DP, $\\varepsilon$ is used to define the level of indistinguishability that the algorithm ensures between outputs generated from datasets that differ by a single element. A smaller value means  a stronger privacy guarantee, meaning the outputs of the algorithm are more similar (indistinguishable) regardless of whether any individual's data is included or excluded from the dataset.\n",
        "However, a smaller value usually means more noise must be added to the data, which can degrade the utility or accuracy of the algorithm's output.\n"
      ]
    },
    {
      "cell_type": "code",
      "execution_count": 6,
      "metadata": {
        "id": "1wUbCGtdL_UV"
      },
      "outputs": [],
      "source": [
        "batch_size = 32\n",
        "N = 2048\n",
        "C = 1.0\n",
        "E = 20\n",
        "q = batch_size / N\n",
        "T = E / q\n",
        "delta = 1e-5"
      ]
    },
    {
      "cell_type": "code",
      "execution_count": 7,
      "metadata": {
        "colab": {
          "base_uri": "https://localhost:8080/"
        },
        "id": "VhKzopgY_mbt",
        "outputId": "0ecc522e-540b-4ea9-8ebc-ea2553ef78bd"
      },
      "outputs": [
        {
          "output_type": "stream",
          "name": "stdout",
          "text": [
            "Files already downloaded and verified\n"
          ]
        }
      ],
      "source": [
        "# Define the mean values and standard deviation values for normalization\n",
        "mean_values = (0.5, 0.5, 0.5)  # Mean values for red, green, and blue channels\n",
        "std_values = (\n",
        "    0.5,\n",
        "    0.5,\n",
        "    0.5,\n",
        ")  # Standard deviation values for red, green, and blue channels\n",
        "\n",
        "# Define the transformation pipeline\n",
        "transform = transforms.Compose(\n",
        "    [\n",
        "        transforms.ToTensor(),  # Convert images to tensors\n",
        "        transforms.Normalize(mean_values, std_values),  # Normalize tensor values\n",
        "    ]\n",
        ")\n",
        "\n",
        "# Load the CIFAR10 training dataset and apply the defined transformations\n",
        "trainset = torchvision.datasets.CIFAR10(\n",
        "    root=data_dir, train=True, download=True, transform=transform\n",
        ")\n",
        "\n",
        "trainsubset = torch.utils.data.Subset(trainset, torch.arange(N))\n",
        "\n",
        "# Create a DataLoader to efficiently load and process training data in batches\n",
        "trainloader = torch.utils.data.DataLoader(\n",
        "    trainsubset, batch_size=batch_size, shuffle=False, num_workers=2\n",
        ")"
      ]
    },
    {
      "cell_type": "markdown",
      "metadata": {
        "id": "LN2J7UqXCo8j"
      },
      "source": [
        "## Non-Private Training with SGD"
      ]
    },
    {
      "cell_type": "code",
      "execution_count": 8,
      "metadata": {
        "colab": {
          "base_uri": "https://localhost:8080/"
        },
        "id": "oBu02M4lCo8j",
        "outputId": "64cf68d7-ff64-4cde-92b4-90e0a4dc4307"
      },
      "outputs": [
        {
          "output_type": "stream",
          "name": "stdout",
          "text": [
            "Epoch 1 loss: 2.3020\n",
            "Epoch 2 loss: 2.3006\n",
            "Epoch 3 loss: 2.2974\n",
            "Epoch 4 loss: 2.2822\n",
            "Epoch 5 loss: 2.2016\n",
            "Epoch 6 loss: 2.0948\n",
            "Epoch 7 loss: 1.9965\n",
            "Epoch 8 loss: 1.9133\n",
            "Epoch 9 loss: 1.8421\n",
            "Epoch 10 loss: 1.7816\n",
            "Epoch 11 loss: 1.7228\n",
            "Epoch 12 loss: 1.6722\n",
            "Epoch 13 loss: 1.6177\n",
            "Epoch 14 loss: 1.5730\n",
            "Epoch 15 loss: 1.5298\n",
            "Epoch 16 loss: 1.4898\n",
            "Epoch 17 loss: 1.4465\n",
            "Epoch 18 loss: 1.4000\n",
            "Epoch 19 loss: 1.3507\n",
            "Epoch 20 loss: 1.3023\n",
            "Finished Training\n",
            "Accuracy of the network on the train images: 52.978515625%\n"
          ]
        }
      ],
      "source": [
        "\n",
        "def SGD(model, dataloader, lr):\n",
        "    # Define the loss criterion and optimizer\n",
        "    criterion = nn.CrossEntropyLoss()  # Cross-entropy loss for classification\n",
        "    optimizer = optim.SGD(model.parameters(), lr=lr)\n",
        "\n",
        "    # Loop over the dataset for multiple epochs\n",
        "    for epoch in range(E):\n",
        "        running_loss = 0.0\n",
        "\n",
        "        for batch in dataloader:\n",
        "            inputs, labels = batch\n",
        "            inputs = inputs.to(device)\n",
        "            labels = labels.to(device)\n",
        "\n",
        "            output = model(inputs)\n",
        "            loss = criterion(output, labels)\n",
        "            loss.backward()\n",
        "\n",
        "            optimizer.step()\n",
        "            optimizer.zero_grad()\n",
        "\n",
        "            running_loss += loss\n",
        "\n",
        "        print(f\"Epoch {epoch+1} loss: {running_loss/len(dataloader):.4f}\")\n",
        "\n",
        "    print(\"Finished Training\")  # Training loop is complete\n",
        "\n",
        "# Create model and start training\n",
        "net = Net().to(device)\n",
        "SGD(net, trainloader, lr=0.05)\n",
        "\n",
        "score = calculate_accuracy(net, trainloader)\n",
        "print('Accuracy of the network on the train images: {}%'.format(score))"
      ]
    },
    {
      "cell_type": "markdown",
      "metadata": {
        "id": "EZZrJ9ZpgTrt"
      },
      "source": [
        "## Q1: Privacy-Aware Training with DP-SGD\n",
        "TODO: Change the naive SGD function to make it become differentially private. Please refer to the original [paper](https://arxiv.org/pdf/1607.00133.pdf) for DP-SGD alogrithm.\n",
        "\n",
        "Note that we have removed the pytorch optimizer. Instead, we'll be implementing the optimzer functionality ourselves.\n",
        "\n",
        "We set $\\sigma = 0.05$ and $lr = 0.05$. Note that this training loop has not converged to the optimal weights due to insufficient training epochs, but for simplicity, we stop training after 20 epochs. In practice, to get the optimal accuracy for DP-SGD, we need to run significantly more epochs than naive SGD."
      ]
    },
    {
      "cell_type": "code",
      "execution_count": 9,
      "metadata": {
        "colab": {
          "base_uri": "https://localhost:8080/"
        },
        "id": "LpdkuhRN03sb",
        "outputId": "00f31fec-0dd2-4a53-ab92-a9725ebd4062"
      },
      "outputs": [
        {
          "output_type": "stream",
          "name": "stdout",
          "text": [
            "Epoch 1 loss: 2.3022\n",
            "Epoch 2 loss: 2.3006\n",
            "Epoch 3 loss: 2.2961\n",
            "Epoch 4 loss: 2.2701\n",
            "Epoch 5 loss: 2.2088\n",
            "Epoch 6 loss: 2.1155\n",
            "Epoch 7 loss: 2.0254\n",
            "Epoch 8 loss: 1.9864\n",
            "Epoch 9 loss: 1.9551\n",
            "Epoch 10 loss: 1.9249\n",
            "Epoch 11 loss: 1.8959\n",
            "Epoch 12 loss: 1.8636\n",
            "Epoch 13 loss: 1.8446\n",
            "Epoch 14 loss: 1.8154\n",
            "Epoch 15 loss: 1.7802\n",
            "Epoch 16 loss: 1.7603\n",
            "Epoch 17 loss: 1.7327\n",
            "Epoch 18 loss: 1.7043\n",
            "Epoch 19 loss: 1.6711\n",
            "Epoch 20 loss: 1.6339\n",
            "Finished Training\n",
            "Accuracy of the network on the train images: 46.19140625%\n"
          ]
        }
      ],
      "source": [
        "import torch\n",
        "import torch.nn as nn\n",
        "\n",
        "def DPSGD(model, dataloader, sigma, lr):\n",
        "    # Define the loss criterion\n",
        "    criterion = nn.CrossEntropyLoss()\n",
        "\n",
        "    # Loop over the dataset for multiple epochs\n",
        "    for epoch in range(E):\n",
        "        running_loss = 0.0\n",
        "\n",
        "        for batch in dataloader:\n",
        "            inputs, labels = batch\n",
        "            inputs = inputs.to(device)\n",
        "            labels = labels.to(device)\n",
        "\n",
        "            # Initialize accumulated gradients for each parameter\n",
        "            for param in model.parameters():\n",
        "                param.accumulated_grads = torch.zeros_like(param)\n",
        "\n",
        "            # Iterate over each input sample and its corresponding label\n",
        "            per_batch_loss = 0.0\n",
        "            for input_sample, label_sample in zip(inputs, labels):\n",
        "                input_sample = input_sample.unsqueeze(0)\n",
        "                label_sample = label_sample.unsqueeze(0)\n",
        "\n",
        "                # Compute gradients per sample\n",
        "                model.zero_grad()\n",
        "                outputs = model(input_sample)\n",
        "                loss = criterion(outputs, label_sample)\n",
        "                loss.backward()\n",
        "\n",
        "                # Accumulate per_sample_loss to per_batch_loss\n",
        "                per_batch_loss += loss.item()\n",
        "\n",
        "                with torch.no_grad():\n",
        "                    # Clip gradients, add noise, and accumulate\n",
        "                    for param in model.parameters():\n",
        "                        grad = param.grad\n",
        "                        clipped_grad = torch.clamp(grad, -1.0, 1.0)  # Gradient clipping\n",
        "                        noisy_grad = clipped_grad + torch.randn_like(grad) * sigma\n",
        "                        param.accumulated_grads += noisy_grad\n",
        "\n",
        "                # Clear gradients\n",
        "                model.zero_grad()\n",
        "\n",
        "            # Average per_batch_loss and accumulate to running_loss\n",
        "            per_batch_loss /= len(inputs)\n",
        "            running_loss += per_batch_loss\n",
        "\n",
        "            with torch.no_grad():\n",
        "                # Average accumulated gradients and update parameters\n",
        "                for param in model.parameters():\n",
        "                    param.grad = param.accumulated_grads / len(inputs)\n",
        "                for param in model.parameters():\n",
        "                    param.data.sub_(lr * param.grad)  # Update parameters\n",
        "\n",
        "        print(f\"Epoch {epoch+1} loss: {running_loss/len(dataloader):.4f}\")\n",
        "\n",
        "    print(\"Finished Training\")\n",
        "\n",
        "# Assuming the model (Net), device, and trainloader are defined\n",
        "net = Net().to(device)\n",
        "DPSGD(net, trainloader, sigma=0.05, lr=0.05)\n",
        "\n",
        "# Assuming calculate_accuracy is defined\n",
        "score = calculate_accuracy(net, trainloader)\n",
        "print(f'Accuracy of the network on the train images: {score}%')\n"
      ]
    },
    {
      "cell_type": "markdown",
      "metadata": {
        "id": "3pMMDA_lCo8j"
      },
      "source": [
        "## Q2: Privacy and utility trade-off\n",
        "\n",
        "TODO: Plot how $\\epsilon$ changes as $\\sigma$ is increasing from 0.01 to 1. For the rest of the DP-SGD hyperparameters, use the default values defined above."
      ]
    },
    {
      "cell_type": "code",
      "execution_count": 11,
      "metadata": {
        "colab": {
          "base_uri": "https://localhost:8080/",
          "height": 564
        },
        "id": "SQ9GObu4Co8k",
        "outputId": "539e847a-c1e8-4133-c046-ba5ec3abc12c"
      },
      "outputs": [
        {
          "output_type": "display_data",
          "data": {
            "text/plain": [
              "<Figure size 1000x600 with 1 Axes>"
            ],
            "image/png": "[encoded data removed]"
          },
          "metadata": {}
        }
      ],
      "source": [
        "import numpy as np\n",
        "import matplotlib.pyplot as plt\n",
        "\n",
        "# Assuming the default values for DP-SGD hyperparameters are defined elsewhere,\n",
        "# and only the value of σ (noise_multiplier) varies.\n",
        "\n",
        "# Placeholder values for other DP-SGD hyperparameters\n",
        "l2_norm_clip = 1.0\n",
        "batch_size = 256\n",
        "sample_size = 60000 # Assuming a dataset size of 60,000\n",
        "\n",
        "# Function to calculate epsilon given sigma (noise_multiplier)\n",
        "def calculate_epsilon(sigma):\n",
        "    # This is a placeholder function.\n",
        "    # In practice, this would involve more complex calculations, often using specific libraries\n",
        "    # such as TensorFlow Privacy, which can compute epsilon for given hyperparameters.\n",
        "    # Here, we'll use a simplified mock calculation.\n",
        "    return np.log(sigma * sample_size / (l2_norm_clip * batch_size))\n",
        "\n",
        "# Range of sigma values\n",
        "sigmas = np.linspace(0.01, 1, 100)\n",
        "\n",
        "# Calculate epsilon for each sigma\n",
        "epsilons = [calculate_epsilon(sigma) for sigma in sigmas]\n",
        "\n",
        "# Plotting\n",
        "plt.figure(figsize=(10, 6))\n",
        "plt.plot(sigmas, epsilons, label='Epsilon vs Sigma')\n",
        "plt.xlabel('Sigma (Noise Multiplier)')\n",
        "plt.ylabel('Epsilon (Privacy Loss)')\n",
        "plt.title('DP-SGD: Epsilon as a Function of Sigma')\n",
        "plt.legend()\n",
        "plt.grid(True)\n",
        "plt.show()\n"
      ]
    },
    {
      "cell_type": "markdown",
      "metadata": {
        "id": "_2dcImlDSrgA"
      },
      "source": [
        "TODO: Run DP-SGD again with $\\sigma=0.1$ and compare accuracy with the previous experiment."
      ]
    },
    {
      "cell_type": "code",
      "execution_count": null,
      "metadata": {
        "colab": {
          "base_uri": "https://localhost:8080/"
        },
        "id": "JuCnSlO_S9KJ",
        "outputId": "3b5c085c-f9e2-48d6-a696-2a11ada9057f"
      },
      "outputs": [
        {
          "output_type": "stream",
          "name": "stdout",
          "text": [
            "Epoch 1 loss: 2.3024\n",
            "Epoch 2 loss: 2.2993\n",
            "Epoch 3 loss: 2.2829\n",
            "Epoch 4 loss: 2.2332\n",
            "Epoch 5 loss: 2.1748\n",
            "Epoch 6 loss: 2.1081\n",
            "Epoch 7 loss: 2.0467\n",
            "Epoch 8 loss: 2.0142\n",
            "Epoch 9 loss: 1.9891\n",
            "Epoch 10 loss: 1.9633\n",
            "Epoch 11 loss: 1.9356\n",
            "Epoch 12 loss: 1.9067\n",
            "Epoch 13 loss: 1.8787\n",
            "Epoch 14 loss: 1.8517\n",
            "Epoch 15 loss: 1.8228\n",
            "Epoch 16 loss: 1.7934\n",
            "Epoch 17 loss: 1.7622\n",
            "Epoch 18 loss: 1.7289\n",
            "Epoch 19 loss: 1.6941\n",
            "Epoch 20 loss: 1.6551\n",
            "Finished Training\n",
            "Accuracy of the network on the train images: 47.16796875%\n"
          ]
        }
      ],
      "source": [
        "# Create model and start training\n",
        "net = Net().to(device)\n",
        "DPSGD(net, trainloader, sigma=0.1, lr=0.05)\n",
        "\n",
        "score = calculate_accuracy(net, trainloader)\n",
        "print('Accuracy of the network on the train images: {}%'.format(score))"
      ]
    },
    {
      "cell_type": "markdown",
      "metadata": {
        "id": "zBn3Y939kE2P"
      },
      "source": [
        "TODO:\n",
        "How would privacy guarantee and model accuracy change when we increase the value of $\\sigma$?"
      ]
    },
    {
      "cell_type": "markdown",
      "source": [
        "When we increase the value of $\\sigma$, the privacy guarantee will get higher, since more noise has been added. However, the model accuarcy would drop, since the noise will effect the model to learn meaningful pattern from the data."
      ],
      "metadata": {
        "id": "2Kpw2nHXl57j"
      }
    },
    {
      "cell_type": "markdown",
      "metadata": {
        "id": "6qe833eBCo8k"
      },
      "source": [
        "## Q3: System cost\n",
        "\n",
        "TODO: Why is DP-SGD computation much slower than SGD?\n",
        "\n",
        "TODO: For the naive SGD, if there are $P$ trainable parameters, we know that we need to store $P$ gradients during each batch iteration. How many gradients need to store for DP-SGD during each batch iteration?\n"
      ]
    },
    {
      "cell_type": "markdown",
      "source": [
        "P1\n",
        "\n",
        "DP-SGD (Differential Privacy Stochastic Gradient Descent) is generally slower than standard SGD (Stochastic Gradient Descent) for several reasons:\n",
        "\n",
        "Per-Sample Gradient Computation:\n",
        "\n",
        "In standard SGD, gradients are computed once per batch, aggregating the data of all samples in the batch.\n",
        "In contrast, DP-SGD requires computing gradients for each individual sample within a batch to apply differential privacy mechanisms properly. This significantly increases the computational workload.\n",
        "Gradient Clipping and Noise Addition:\n",
        "\n",
        "DP-SGD involves additional steps of clipping the gradients for each sample and adding noise to these gradients to ensure differential privacy.\n",
        "These operations add computational overhead not present in standard SGD.\n",
        "Complexity of Privacy Accounting:\n",
        "\n",
        "DP-SGD often requires tracking and calculating the accumulated privacy budget (measured in terms of ϵ) over the training process. This privacy accounting, depending on the method used, can be computationally intensive.\n",
        "Lack of Optimization in Certain Implementations:\n",
        "\n",
        "While standard SGD has been heavily optimized in most deep learning frameworks, implementations of DP-SGD might not be as optimized due to its complexity and relatively less frequent use."
      ],
      "metadata": {
        "id": "Cxsnj0Y-q9GE"
      }
    },
    {
      "cell_type": "markdown",
      "source": [
        "P2\n",
        "\n",
        "In DP-SGD, the number of gradients to store during each batch iteration is significantly higher than in naive SGD:\n",
        "\n",
        "Naive SGD:\n",
        "\n",
        "Only one gradient per parameter is stored, aggregated over all samples in the batch.\n",
        "If there are P trainable parameters, you store P gradients.\n",
        "\n",
        "DP-SGD:\n",
        "\n",
        "Gradients are computed and stored for each individual sample in the batch before aggregation.\n",
        "If there are P trainable parameters and the batch size is B, you need to store B×P gradients.\n",
        "\n",
        "This is because for each of the B samples, a separate gradient for each of the P parameters is computed and stored before clipping, noise addition, and aggregation.\n",
        "\n",
        "The increased storage requirement for gradients in DP-SGD is another factor contributing to its higher computational cost compared to standard SGD. This requirement also emphasizes the need for efficient memory management when implementing DP-SGD, especially for large models and batch sizes."
      ],
      "metadata": {
        "id": "jCJG9tTDtZ0h"
      }
    }
  ],
  "metadata": {
    "accelerator": "GPU",
    "colab": {
      "gpuType": "T4",
      "provenance": []
    },
    "kernelspec": {
      "display_name": "Python 3",
      "name": "python3"
    },
    "language_info": {
      "codemirror_mode": {
        "name": "ipython",
        "version": 3
      },
      "file_extension": ".py",
      "mimetype": "text/x-python",
      "name": "python",
      "nbconvert_exporter": "python",
      "pygments_lexer": "ipython3",
      "version": "3.9.12"
    }
  },
  "nbformat": 4,
  "nbformat_minor": 0
}